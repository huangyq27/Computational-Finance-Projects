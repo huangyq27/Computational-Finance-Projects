{
 "cells": [
  {
   "cell_type": "code",
   "execution_count": 1,
   "metadata": {},
   "outputs": [],
   "source": [
    "import numpy as np\n",
    "from scipy.stats import norm, ncx2\n",
    "np.random.seed(1234)"
   ]
  },
  {
   "cell_type": "markdown",
   "metadata": {},
   "source": [
    "Problem 1"
   ]
  },
  {
   "cell_type": "code",
   "execution_count": 2,
   "metadata": {},
   "outputs": [],
   "source": [
    "r0 = 0.05\n",
    "sigma = 0.1\n",
    "kappa = 0.82\n",
    "r_bar = 0.05\n",
    "FV = 1000\n",
    "dt = 1/360.\n",
    "simulations = 5000"
   ]
  },
  {
   "cell_type": "code",
   "execution_count": 19,
   "metadata": {},
   "outputs": [
    {
     "name": "stdout",
     "output_type": "stream",
     "text": [
      "1a: 975.578711353\n"
     ]
    }
   ],
   "source": [
    "# (a)\n",
    "\n",
    "T_zcb = 0.5\n",
    "step_zcb = int(T_zcb * 360)\n",
    "r_mat = np.zeros((simulations, step_zcb + 1))\n",
    "r_mat[:,0] = r0\n",
    "\n",
    "for i in range(1, step_zcb + 1):\n",
    "    brownian = np.random.standard_normal(simulations)\n",
    "    r_mat[:,i] = r_mat[:, i-1] + kappa * (r_bar - r_mat[:,i-1]) * dt + sigma * brownian * np.sqrt(dt)\n",
    "    \n",
    "R = dt * np.sum(r_mat[:,1:], axis = 1)\n",
    "zcb = np.mean(np.exp(-R)) * FV\n",
    "print(\"1a: \" + str(zcb))"
   ]
  },
  {
   "cell_type": "code",
   "execution_count": 26,
   "metadata": {},
   "outputs": [
    {
     "name": "stdout",
     "output_type": "stream",
     "text": [
      "1b: 1047.0476765\n"
     ]
    }
   ],
   "source": [
    "# (b)\n",
    "\n",
    "T_cp = np.arange(0.5, 4 + 0.5, 0.5)\n",
    "coupon = 30.\n",
    "step_cp = [int(360 * i) for i in T_cp]\n",
    "periods = int(2*T_cp[-1])\n",
    "C = np.repeat(coupon, periods)\n",
    "C[-1] += FV  \n",
    "r_mat_cp = np.zeros((simulations, step_cp[-1] + 1))\n",
    "r_mat_cp[:,0] = r0\n",
    "\n",
    "for i in range(1, step_cp[-1] + 1):\n",
    "    brownian = np.random.standard_normal(simulations)\n",
    "    r_mat_cp[:,i] = r_mat_cp[:, i-1] + kappa * (r_bar - r_mat_cp[:,i-1]) * dt + sigma * brownian * np.sqrt(dt)\n",
    "  \n",
    "R_cp = [dt * np.sum(r_mat_cp[:,1:i+1], axis = 1) for i in step_cp]\n",
    "zcb_list = [np.mean(np.exp(-R_cp[i])) * C[i] for i in range(periods)] \n",
    "cpbond = sum(zcb_list)\n",
    "print(\"1b: \" + str(cpbond))"
   ]
  },
  {
   "cell_type": "code",
   "execution_count": 20,
   "metadata": {},
   "outputs": [
    {
     "name": "stdout",
     "output_type": "stream",
     "text": [
      "1c: 8.86731060227\n"
     ]
    }
   ],
   "source": [
    "# (c)\n",
    "\n",
    "T_call = 3/12.\n",
    "K_call = 980. \n",
    "expiration = int(360*T_call)\n",
    "\n",
    "def B_V(T_opt, T_bond):\n",
    "    B = 1/kappa * (1- np.exp(-kappa * (T_bond - T_opt)))\n",
    "    return B\n",
    "\n",
    "def A_V(T_opt, T_bond):\n",
    "    A = np.exp((r_bar - 0.5 * sigma**2/kappa**2) * (B_V(T_opt, T_bond) - (T_bond - T_opt)) - sigma**2 * B_V(T_opt, T_bond)**2/(4*kappa))\n",
    "    return A\n",
    "\n",
    "prices_zcb = A_V(T_call, T_zcb) * np.exp(-B_V(T_call, T_zcb) * r_mat[:,expiration]) * 1000\n",
    "R_zcb = dt * np.sum(r_mat[:,1:expiration + 1], axis = 1)\n",
    "payoff_zcb = np.maximum(prices_zcb - K_call, 0)\n",
    "EC_zcb = np.dot(np.exp(-R_zcb), payoff_zcb)/simulations\n",
    "print(\"1c: \" + str(EC_zcb))"
   ]
  },
  {
   "cell_type": "code",
   "execution_count": 28,
   "metadata": {},
   "outputs": [
    {
     "name": "stdout",
     "output_type": "stream",
     "text": [
      "1d: 82.8790358168\n"
     ]
    }
   ],
   "source": [
    "#(d)\n",
    "expiration = int(360*T_call)\n",
    "\n",
    "def ZCB(t, S, r0, FV, M = 1000):\n",
    "    step = int((S - t) * 360)\n",
    "    r_mat = np.zeros((M, step + 1))\n",
    "    r_mat[:,0] = r0\n",
    "    \n",
    "    for i in range(1, step + 1):\n",
    "        brownian = np.random.standard_normal(M)\n",
    "        r_mat[:,i] = r_mat[:, i-1] + kappa * (r_bar - r_mat[:,i-1]) * dt + sigma * brownian * np.sqrt(dt)\n",
    "        \n",
    "    R = dt * np.sum(r_mat, axis = 1)\n",
    "    zcb = np.mean(np.exp(-R)) * FV\n",
    "    return zcb\n",
    "\n",
    "r_start = r_mat_cp[:, expiration]\n",
    "prices_part_im = []\n",
    "\n",
    "for j in range(8):\n",
    "    zcb_next = np.array([ZCB(T_call, T_cp[j], r_start[i], C[j]) for i in range(simulations)])\n",
    "    prices_part_im.append(zcb_next)\n",
    "\n",
    "prices_part_im = np.array(prices_part_im)\n",
    "prices_cp_im = np.sum(prices_part_im, axis = 0)\n",
    "payoff_cp_im = np.maximum(prices_cp_im - K_call, 0)\n",
    "R_cp = dt * np.sum(r_mat_cp[:,1:expiration+1], axis = 1)\n",
    "EC_cp_im = np.dot(np.exp(-R_cp), payoff_cp_im)/simulations\n",
    "print(\"1d: \" + str(EC_cp_im))"
   ]
  },
  {
   "cell_type": "code",
   "execution_count": 27,
   "metadata": {},
   "outputs": [
    {
     "name": "stdout",
     "output_type": "stream",
     "text": [
      "1e: 82.9288822969\n"
     ]
    }
   ],
   "source": [
    "# (e)\n",
    "# explict formula \n",
    "prices_part_ex = np.array([A_V(T_call, T_cp[i]) * np.exp(-B_V(T_call, T_cp[i]) * r_mat_cp[:, expiration]) * C[i] for i in range(periods)])\n",
    "prices_cp_ex = np.sum(prices_part_ex, axis = 0)\n",
    "payoff_cp_ex = np.maximum(prices_cp_ex - K_call, 0)\n",
    "R_cp = dt * np.sum(r_mat_cp[:,1:expiration+1], axis = 1)\n",
    "EC_cp_ex = np.dot(np.exp(-R_cp), payoff_cp_ex)/simulations\n",
    "print(\"1e: \" + str(EC_cp_ex))\n"
   ]
  },
  {
   "cell_type": "markdown",
   "metadata": {},
   "source": [
    "Comment: The results from (d) and (e) are quite close. Using explicit formula for the underlying bond price will yield better performance. \n"
   ]
  },
  {
   "cell_type": "markdown",
   "metadata": {},
   "source": [
    "Problem 2"
   ]
  },
  {
   "cell_type": "markdown",
   "metadata": {},
   "source": [
    "a. Monte-Carlo simulation"
   ]
  },
  {
   "cell_type": "code",
   "execution_count": 5,
   "metadata": {},
   "outputs": [],
   "source": [
    "# (a)\n",
    "sigma_cir = 0.12\n",
    "kappa_cir = 0.92\n",
    "r_bar_cir = 0.055\n",
    "step_cir = int(0.5 * 360)\n",
    "K_call = 980.\n",
    "\n",
    "h1 = np.sqrt(kappa_cir**2 + 2*sigma_cir**2)\n",
    "h2 = (kappa_cir + h1)/2.\n",
    "h3 = 2 * kappa_cir * r_bar_cir/sigma_cir**2\n",
    "\n",
    "def B_CIR(t, T):\n",
    "    B = (np.exp(h1 * (T - t)) - 1)/(h2 * (np.exp(h1 * (T - t)) - 1) + h1)\n",
    "    return B\n",
    "\n",
    "def A_CIR(t, T):\n",
    "    A = np.power(h1 * np.exp(h2 * (T - t))/(h2 * (np.exp(h1 * (T - t)) - 1) + h1),h3)\n",
    "    return A\n",
    "\n",
    "\n",
    "r_mat_cir = np.zeros((simulations, step_cir + 1))\n",
    "r_mat_cir[:,0] = r0\n",
    "for i in range(1, step_cir + 1):\n",
    "    brownian = np.random.standard_normal(simulations)\n",
    "    r_mat_cir[:,i] = r_mat_cir[:, i-1] + kappa_cir * (r_bar_cir - r_mat_cir[:,i-1]) * dt + sigma_cir * brownian * np.sqrt(dt * r_mat_cir[:, i-1])\n"
   ]
  },
  {
   "cell_type": "code",
   "execution_count": 6,
   "metadata": {},
   "outputs": [
    {
     "name": "stdout",
     "output_type": "stream",
     "text": [
      "2a: 0.387307160898\n"
     ]
    }
   ],
   "source": [
    "r_start_cir = r_mat_cir[:,-1]\n",
    "newstep = int(360*0.5)\n",
    "newpath = 1000\n",
    "prices_cir_im = []\n",
    "\n",
    "for i in range(simulations):\n",
    "    r = np.zeros((newpath, newstep+1))\n",
    "    r[:,0] = r_start_cir[i]\n",
    "    \n",
    "    for j in range(1, newstep+1):\n",
    "        brownian = np.random.standard_normal(newpath)\n",
    "        r[:,j] = r[:, j-1] + kappa_cir * (r_bar_cir - r[:,j-1]) * dt + sigma_cir * brownian * np.sqrt(dt * r[:,j-1])\n",
    "    \n",
    "    R = np.sum(r[:,1:], axis = 1) * dt\n",
    "    zcb_next = np.mean(np.exp(-R)) * 1000\n",
    "    prices_cir_im.append(zcb_next)\n",
    "\n",
    "\n",
    "R_cir = dt * np.sum(r_mat_cir[:,1:], axis = 1)\n",
    "payoff_cir_im = np.maximum(np.array(prices_cir_im) - K_call, 0)\n",
    "EC_cir_im = np.dot(np.exp(-R_cir), payoff_cir_im)/simulations\n",
    "print(\"2a: \"+ str(EC_cir_im))"
   ]
  },
  {
   "cell_type": "markdown",
   "metadata": {},
   "source": [
    "b. Implict finite difference method"
   ]
  },
  {
   "cell_type": "code",
   "execution_count": 49,
   "metadata": {},
   "outputs": [
    {
     "name": "stdout",
     "output_type": "stream",
     "text": [
      "2b: 0.39292111966639653\n"
     ]
    }
   ],
   "source": [
    "M = int(0.5 * 360) # time grid\n",
    "N = 100 # space grid\n",
    "deltar = 0.001\n",
    "r_seq = np.linspace(N*deltar, 0, N+1)\n",
    "j = np.arange(N-1, 0, -1, dtype = np.float)\n",
    "\n",
    "pu = 0.5 * dt *(-sigma_cir**2 * j/deltar - kappa_cir * r_bar_cir/deltar + kappa_cir * j)\n",
    "pm = 1 + sigma_cir**2 *j * dt/deltar + j * deltar * dt\n",
    "pd = 0.5 * dt *(-sigma_cir**2 * j/deltar + kappa_cir * r_bar_cir/deltar - kappa_cir * j)\n",
    "\n",
    "A = np.zeros((N+1, N+1))\n",
    "for i in range(1, N):\n",
    "    A[i,i-1:i+2] = pu[i-1], pm[i-1], pd[i-1]\n",
    "A[0,:2] = [1,-1]\n",
    "A[-1,N-1:] = [1,-1]\n",
    " \n",
    "F = np.zeros((N+1, M+1))\n",
    "\n",
    "prices_end = np.array(A_CIR(0.5, 1.) * np.exp(-B_CIR(0.5, 1.) * r_seq) * 1000)\n",
    "F[:,-1] = np.maximum(prices_end - K_call, 0) \n",
    "\n",
    "for i in range(M-1, -1, -1):\n",
    "    B = F[:,i+1]\n",
    "    B[0] = 0 \n",
    "    B[-1] = 1000 * (A_CIR(0.5, 1.) * np.exp(-B_CIR(0.5, 1.) * r_seq[-1]) - A_CIR(0.5, 1.) * np.exp(-B_CIR(0.5, 1.) * r_seq[-2]))\n",
    "    F[:,i] = np.linalg.inv(A) @ B\n",
    "\n",
    "optprices = F[:,0]\n",
    "EC_2b = np.interp(r0, r_seq[::-1], optprices[::-1])\n",
    "print(\"2b: \" + str(EC_2b))"
   ]
  },
  {
   "cell_type": "markdown",
   "metadata": {},
   "source": [
    "c. Explicit formula"
   ]
  },
  {
   "cell_type": "code",
   "execution_count": 50,
   "metadata": {},
   "outputs": [
    {
     "name": "stdout",
     "output_type": "stream",
     "text": [
      "2c: 0.394057532617\n"
     ]
    }
   ],
   "source": [
    "theta = np.sqrt(kappa_cir**2 + 2 * sigma_cir**2)\n",
    "phi = 2 * theta /sigma_cir**2/(np.exp(theta * 0.5) - 1)\n",
    "psi = (kappa_cir + theta)/sigma_cir**2\n",
    "rstar = np.log(A_CIR(0.5, 1.)/K_call*1000.) /B_CIR(0.5, 1.)\n",
    "P_S_cir = A_CIR(0., 1.) * np.exp(-B_CIR(0., 1.) * r0) * FV\n",
    "P_T_cir = A_CIR(0., 0.5) * np.exp(-B_CIR(0., 0.5) * r0) * FV\n",
    "EC_2c = P_S_cir * ncx2.cdf(2*rstar*(phi + psi + B_CIR(0.5, 1.)), 4*kappa_cir*r_bar_cir/sigma_cir**2, \n",
    "                         (2 * phi**2 * r0 * np.exp(theta*0.5))/(phi + psi + B_CIR(0.5, 1.))) - K_call/1000 * P_T_cir * ncx2.cdf(2*rstar*(phi + psi), \n",
    "                         4*kappa_cir*r_bar_cir/sigma_cir**2,  (2 * phi**2 * r0 * np.exp(theta*0.5))/(phi + psi))\n",
    "\n",
    "print(\"2c: \" + str(EC_2c))"
   ]
  },
  {
   "cell_type": "markdown",
   "metadata": {},
   "source": [
    "Comment: Comparing with Monte-Carlo simulation, the Finite Difference Method yields more precise result (closer to result of the explicit formula). One possible way to enhance the presicion of Monte-Carlo Method is to increase the paths of simulations."
   ]
  },
  {
   "cell_type": "markdown",
   "metadata": {},
   "source": [
    "Problem 3"
   ]
  },
  {
   "cell_type": "markdown",
   "metadata": {},
   "source": [
    "Monte-carlo simulation"
   ]
  },
  {
   "cell_type": "code",
   "execution_count": 7,
   "metadata": {},
   "outputs": [],
   "source": [
    "# (a)\n",
    "phi_3 = 0.03\n",
    "r0_3 = 0.03\n",
    "rho = 0.7\n",
    "a = 0.1\n",
    "b = 0.3\n",
    "sigma_3 = 0.03\n",
    "eta = 0.08\n",
    "K_put = 950\n",
    "T_put = 0.5\n",
    "S = 1 \n",
    "step_put = int(T_put * 360)\n",
    "\n",
    "def ZCB_G2(t, T, xt, yt, FV):\n",
    "    tau = T - t\n",
    "          \n",
    "    v = sigma_3**2/a**2 * (tau + 2/a * np.exp(-a * tau) - 0.5/a * np.exp(-2*a*tau) - 1.5/a) + \\\n",
    "    eta**2/b**2 * (tau + 2/b * np.exp(-b * tau) - 0.5/b * np.exp(-2*b*tau) - 1.5/b) + \\\n",
    "    2 * rho * sigma_3 * eta /(a*b) * (tau + (np.exp(-a*tau) -1)/a + (np.exp(-b*tau) -1)/b - (np.exp(-(a + b) * tau) -1)/(a+b))\n",
    "        \n",
    "    disc = np.exp(- phi_3 * tau - xt * (1 - np.exp(-a * tau))/a - yt * (1 - np.exp(-b * tau))/b + v/2.)\n",
    "    \n",
    "    return disc * FV \n"
   ]
  },
  {
   "cell_type": "code",
   "execution_count": 10,
   "metadata": {},
   "outputs": [],
   "source": [
    "r_mat3 = np.zeros((simulations, step_put + 1))\n",
    "x_mat = np.zeros_like(r_mat3)\n",
    "y_mat = np.zeros_like(r_mat3)\n",
    "r_mat3[:,0] = r0_3\n",
    "for i in range(1, step_put + 1):\n",
    "    brownian = np.random.standard_normal(2 * simulations)\n",
    "    # generate Bivariate-Normally distributed random variables with given correlations\n",
    "    z1 = brownian[:simulations]\n",
    "    z2 = rho * z1 + np.sqrt(1 - rho**2) * brownian[simulations:]\n",
    "    x_mat[:,i] = x_mat[:,i-1] - a * x_mat[:,i-1] * dt + sigma_3 * np.sqrt(dt) * z1\n",
    "    y_mat[:,i] = y_mat[:,i-1] - b * y_mat[:,i-1] * dt + eta * np.sqrt(dt) * z2\n",
    "    r_mat3[:,i] = x_mat[:,i] + y_mat[:,i] + phi_3\n",
    "    \n",
    "x_end_put = x_mat[:,step_put]\n",
    "y_end_put = y_mat[:,step_put]\n"
   ]
  },
  {
   "cell_type": "code",
   "execution_count": 11,
   "metadata": {},
   "outputs": [
    {
     "name": "stdout",
     "output_type": "stream",
     "text": [
      "3a: 1.84057039645\n"
     ]
    }
   ],
   "source": [
    "r_start_g2 = r_mat3[:,-1]\n",
    "prices_g2_im = []\n",
    "\n",
    "for i in range(simulations):\n",
    "    r = np.zeros((newpath, newstep+1))\n",
    "    x = np.zeros_like(r)\n",
    "    y = np.zeros_like(r)\n",
    "    r[:,0] = r_start_g2[i]\n",
    "    x[:,0] = x_end_put[i]\n",
    "    y[:,0] = y_end_put[i]\n",
    "    \n",
    "    for j in range(1, newstep+1):\n",
    "        brownian = np.random.standard_normal(2 * newpath)\n",
    "        # generate Bivariate-Normally distributed random variables with given correlations\n",
    "        z1 = brownian[:newpath]\n",
    "        z2 = rho * z1 + np.sqrt(1 - rho**2) * brownian[newpath:]\n",
    "        x[:,j] = x[:,j-1] - a * x[:,j-1] * dt + sigma_3 * np.sqrt(dt) * z1\n",
    "        y[:,j] = y[:,j-1] - b * y[:,j-1] * dt + eta * np.sqrt(dt) * z2\n",
    "        r[:,j] = x[:,j] + y[:,j] + phi_3\n",
    "    \n",
    "    R = np.sum(r[:,1:], axis = 1) * dt\n",
    "    zcb_next = np.mean(np.exp(-R)) * 1000\n",
    "    prices_g2_im.append(zcb_next)\n",
    "\n",
    "\n",
    "R_g2 = dt * np.sum(r_mat3[:,1:], axis = 1)\n",
    "payoff_g2_im = np.maximum(float(K_put) - np.array(prices_g2_im), 0)\n",
    "EC_g2_im = np.dot(np.exp(-R_g2), payoff_g2_im)/simulations\n",
    "print(\"3a: \" + str(EC_g2_im))"
   ]
  },
  {
   "cell_type": "markdown",
   "metadata": {},
   "source": [
    "Explict formula"
   ]
  },
  {
   "cell_type": "code",
   "execution_count": 34,
   "metadata": {},
   "outputs": [
    {
     "name": "stdout",
     "output_type": "stream",
     "text": [
      "3b: 1.86095987496\n"
     ]
    }
   ],
   "source": [
    "SIGMA = np.sqrt(sigma_3**2/(2 * a**3) * pow(1 - np.exp(-a * (S - T_put)), 2) * (1 - np.exp(-2* a * T_put)) + \n",
    "                eta**2/(2 * b**3) * pow(1 - np.exp(-b * (S - T_put)), 2) * (1 - np.exp(-2 * b * T_put)) + \n",
    "                2*rho*sigma_3*eta/(a*b*(a+b)) * (1 - np.exp(-a*(S -T_put))) * (1 - np.exp(-b*(S -T_put))) * (1 - np.exp(-(a+b)*T_put)))\n",
    "\n",
    "P_S_g2 = ZCB_G2(0, S, 0, 0, 1000)\n",
    "P_T_g2 = ZCB_G2(0, T_put, 0, 0, 1000)\n",
    "\n",
    "EP_formula = - P_S_g2 * norm.cdf(np.log(K_put/1000 * P_T_g2/P_S_g2)/SIGMA - SIGMA/2.) + P_T_g2 * K_put/1000. * norm.cdf(np.log(K_put/1000 * P_T_g2/P_S_g2)/SIGMA + SIGMA/2.) \n",
    "print(\"3b: \" + str(EP_formula))"
   ]
  },
  {
   "cell_type": "markdown",
   "metadata": {},
   "source": [
    "Comment: The results from Monte-Carlo simulation vary around 1.86 as we input different seeds. One possible way to enhance the presicion of Monte-Carlo Method is to increase the paths of simulations."
   ]
  }
 ],
 "metadata": {
  "kernelspec": {
   "display_name": "Python 3",
   "language": "python",
   "name": "python3"
  },
  "language_info": {
   "codemirror_mode": {
    "name": "ipython",
    "version": 3
   },
   "file_extension": ".py",
   "mimetype": "text/x-python",
   "name": "python",
   "nbconvert_exporter": "python",
   "pygments_lexer": "ipython3",
   "version": "3.6.3"
  }
 },
 "nbformat": 4,
 "nbformat_minor": 2
}
