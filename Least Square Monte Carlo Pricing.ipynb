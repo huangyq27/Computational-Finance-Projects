{
 "cells": [
  {
   "cell_type": "markdown",
   "metadata": {},
   "source": [
    "Least Square Monte Carlo"
   ]
  },
  {
   "cell_type": "markdown",
   "metadata": {},
   "source": [
    "Problem 1"
   ]
  },
  {
   "cell_type": "markdown",
   "metadata": {},
   "source": [
    "Set-up"
   ]
  },
  {
   "cell_type": "code",
   "execution_count": 1,
   "metadata": {},
   "outputs": [],
   "source": [
    "import numpy as np\n",
    "np.random.seed(123)\n",
    "\n",
    "\n",
    "def Laguerre(x, k):\n",
    "    x = np.array(x) \n",
    "    L1 = np.exp(- x/2.)\n",
    "    L2 = np.exp(- x/2.) * (1-x)\n",
    "    L3 = np.exp(- x/2.) * (1 - 2 * x + 0.5 * x**2)\n",
    "    L4 = np.exp(- x/2.) * (1 - 3 * x + 1.5 * x**2 - 1/6. * x**3)\n",
    "    L = [np.stack((L1, L2), axis = -1),\n",
    "         np.stack((L1, L2, L3), axis = -1),\n",
    "         np.stack((L1, L2, L3, L4), axis = -1)]\n",
    "    return L[k-2]\n",
    "\n",
    "def Hermite(x, k):\n",
    "    L1 = np.power(x, 0)\n",
    "    L2 = 2 * np.power(x, 1)\n",
    "    L3 = 4 * np.power(x, 2) - 2\n",
    "    L4 = 8 * np.power(x, 3) -12 * np.array(x)\n",
    "    L = [np.stack((L1, L2), axis = -1),\n",
    "         np.stack((L1, L2, L3), axis = -1),\n",
    "         np.stack((L1, L2, L3, L4), axis = -1)]\n",
    "    return L[k-2]\n",
    "\n",
    "def Monomials(x, k):\n",
    "    L1 = np.power(x, 0)\n",
    "    L2 = np.power(x, 1)\n",
    "    L3 = np.power(x, 2)\n",
    "    L4 = np.power(x, 3)\n",
    "    L = [np.stack((L1, L2), axis = -1),\n",
    "         np.stack((L1, L2, L3), axis = -1),\n",
    "         np.stack((L1, L2, L3, L4), axis = -1)]\n",
    "    return L[k-2]\n"
   ]
  },
  {
   "cell_type": "code",
   "execution_count": 4,
   "metadata": {
    "collapsed": true
   },
   "outputs": [],
   "source": [
    "def AmericanOptionsLSMC(S0, strike, T, r, sigma, simulations, k, method):\n",
    "\n",
    "        \n",
    "    N = 50\n",
    "    time_unit = T / float(N)\n",
    "    discount = np.exp(-r * time_unit)\n",
    "    \n",
    "   \n",
    "    MCprice_matrix = np.zeros((simulations, N + 1), dtype=np.float64)\n",
    "    MCprice_matrix[:, 0] = S0\n",
    "    for t in range(1, N + 1):\n",
    "        brownian = np.random.standard_normal(int(simulations / 2))\n",
    "        brownian = np.concatenate((brownian, -brownian))\n",
    "        MCprice_matrix[:, t] = (MCprice_matrix[:, t-1]\n",
    "                              * np.exp((r - sigma ** 2 / 2.) * time_unit\n",
    "                              + sigma * brownian * np.sqrt(time_unit)))   \n",
    "    \n",
    "    MCpayoff = np.maximum(strike - MCprice_matrix, 0)\n",
    "    \n",
    "      \n",
    "    value_matrix = np.zeros_like(MCpayoff)\n",
    "    value_matrix[:, -1] = MCpayoff[:, -1]\n",
    "    index_matrix = np.zeros_like(MCpayoff)\n",
    "    index_matrix[:,-1] = (value_matrix[:, -1] > 0) * 1\n",
    "    for t in range(N - 1, 0 , -1):\n",
    "                  \n",
    "        itm = np.where(MCpayoff[:, t] > 0)\n",
    "        P = MCprice_matrix[itm, t][0]         \n",
    "        \n",
    "        if method == \"H\":\n",
    "            L = Hermite(P, k)\n",
    "        \n",
    "        elif method == \"L\":\n",
    "            L = Laguerre(P, k)\n",
    "        \n",
    "        else:  \n",
    "            L = Monomials(P, k)\n",
    "             \n",
    "        A = L.transpose() @ L\n",
    "        disc = np.array([pow(discount, i+1) for i in range(N - t)])\n",
    "        disc_MCpayoff = np.multiply(MCpayoff[itm, t+1:][0], disc[np.newaxis, :])\n",
    "        Y = np.sum(disc_MCpayoff * index_matrix[itm, t+1:][0], axis = 1)\n",
    "        b = L.transpose() @ Y\n",
    "        a = np.linalg.pinv(A) @ b\n",
    "        \n",
    "        continuation_value = L @ a\n",
    "        value_matrix[itm, t] = np.where(MCpayoff[itm, t][0] > continuation_value, MCpayoff[itm, t][0], 0)\n",
    "        index_matrix[itm, t] = (value_matrix[itm, t] > 0) * 1\n",
    "        exercise = np.where(index_matrix[:,t] == 1)\n",
    "        index_matrix[exercise, t+1:] = 0 \n",
    "        \n",
    "            \n",
    "    disc_vector = [pow(discount, i+1) for i in range(N)]\n",
    "    index_matrix = np.multiply(index_matrix[:,1:], disc_vector)\n",
    "    optvalue = np.sum(index_matrix * value_matrix[:,1:], axis = 1)   \n",
    "       \n",
    "   \n",
    "    return sum(optvalue)/float(simulations)\n",
    "    \n",
    " "
   ]
  },
  {
   "cell_type": "markdown",
   "metadata": {},
   "source": [
    "a."
   ]
  },
  {
   "cell_type": "code",
   "execution_count": 5,
   "metadata": {},
   "outputs": [
    {
     "name": "stdout",
     "output_type": "stream",
     "text": [
      "Laguerre polynomials: \n",
      "[36.0, 0.5, 2]: 3.98034094541\n",
      "[36.0, 0.5, 3]: 4.05936982693\n",
      "[36.0, 0.5, 4]: 4.18044699422\n",
      "[36.0, 1, 2]: 3.96514854543\n",
      "[36.0, 1, 3]: 4.08676297642\n",
      "[36.0, 1, 4]: 4.27698408224\n",
      "[36.0, 2, 2]: 3.91276128558\n",
      "[36.0, 2, 3]: 4.11919916641\n",
      "[36.0, 2, 4]: 4.33238216215\n",
      "[40.0, 0.5, 2]: 1.40681532782\n",
      "[40.0, 0.5, 3]: 1.70200860695\n",
      "[40.0, 0.5, 4]: 1.78879255327\n",
      "[40.0, 1, 2]: 1.52249826311\n",
      "[40.0, 1, 3]: 1.84810497146\n",
      "[40.0, 1, 4]: 2.15545293264\n",
      "[40.0, 2, 2]: 1.63799006529\n",
      "[40.0, 2, 3]: 2.0002242213\n",
      "[40.0, 2, 4]: 2.31454365309\n",
      "[44.0, 0.5, 2]: 0.477240051957\n",
      "[44.0, 0.5, 3]: 0.615975067277\n",
      "[44.0, 0.5, 4]: 0.626656334406\n",
      "[44.0, 1, 2]: 0.645326434325\n",
      "[44.0, 1, 3]: 0.877246122671\n",
      "[44.0, 1, 4]: 1.07576020245\n",
      "[44.0, 2, 2]: 0.817834417153\n",
      "[44.0, 2, 3]: 1.04549899797\n",
      "[44.0, 2, 4]: 1.33948856139\n"
     ]
    }
   ],
   "source": [
    "\n",
    "S0_1 = [36., 40., 44.]\n",
    "T_1 = [0.5, 1, 2]\n",
    "k_1 = [2, 3, 4]\n",
    "\n",
    "\n",
    "# (a)\n",
    "\n",
    "print(\"Laguerre polynomials: \")\n",
    "for i in S0_1:\n",
    "    for j in T_1:\n",
    "        for k in k_1:\n",
    "            price = AmericanOptionsLSMC(S0 = i, strike = 40., T = j, r = 0.06, sigma = 0.2, \n",
    "                                        simulations = 100000, k = k, method = 'L')\n",
    "            print(str([i, j, k]) + \": \" + str(price))"
   ]
  },
  {
   "cell_type": "markdown",
   "metadata": {},
   "source": [
    "b."
   ]
  },
  {
   "cell_type": "code",
   "execution_count": 6,
   "metadata": {},
   "outputs": [
    {
     "name": "stdout",
     "output_type": "stream",
     "text": [
      "Hermite polynomials: \n",
      "[36.0, 0.5, 2]: 4.15310534426\n",
      "[36.0, 0.5, 3]: 4.20265089016\n",
      "[36.0, 0.5, 4]: 4.20499138819\n",
      "[36.0, 1, 2]: 4.41623986736\n",
      "[36.0, 1, 3]: 4.47247955174\n",
      "[36.0, 1, 4]: 4.48154012384\n",
      "[36.0, 2, 2]: 4.74639600823\n",
      "[36.0, 2, 3]: 4.81257572657\n",
      "[36.0, 2, 4]: 4.83229871271\n",
      "[40.0, 0.5, 2]: 1.7680770762\n",
      "[40.0, 0.5, 3]: 1.78427758664\n",
      "[40.0, 0.5, 4]: 1.78220953064\n",
      "[40.0, 1, 2]: 2.27550765293\n",
      "[40.0, 1, 3]: 2.30344266139\n",
      "[40.0, 1, 4]: 2.31858712752\n",
      "[40.0, 2, 2]: 2.80990223031\n",
      "[40.0, 2, 3]: 2.87152129102\n",
      "[40.0, 2, 4]: 2.87785914638\n",
      "[44.0, 0.5, 2]: 0.62464611395\n",
      "[44.0, 0.5, 3]: 0.629091081233\n",
      "[44.0, 0.5, 4]: 0.629475771673\n",
      "[44.0, 1, 2]: 1.09196185736\n",
      "[44.0, 1, 3]: 1.10239798944\n",
      "[44.0, 1, 4]: 1.11845687964\n",
      "[44.0, 2, 2]: 1.64189855199\n",
      "[44.0, 2, 3]: 1.67749277107\n",
      "[44.0, 2, 4]: 1.69237811024\n"
     ]
    }
   ],
   "source": [
    "print(\"Hermite polynomials: \")\n",
    "for i in S0_1:\n",
    "    for j in T_1:\n",
    "        for k in k_1:\n",
    "            price = AmericanOptionsLSMC(S0 = i, strike = 40., T = j, r = 0.06, sigma = 0.2, \n",
    "                                        simulations = 100000, k = k, method = 'H')\n",
    "            print(str([i, j, k]) + \": \" + str(price))\n",
    "                                    "
   ]
  },
  {
   "cell_type": "markdown",
   "metadata": {},
   "source": [
    "c."
   ]
  },
  {
   "cell_type": "code",
   "execution_count": 7,
   "metadata": {},
   "outputs": [
    {
     "name": "stdout",
     "output_type": "stream",
     "text": [
      "Simple Monomials \n",
      "[36.0, 0.5, 2]: 4.16775459323\n",
      "[36.0, 0.5, 3]: 4.19670555573\n",
      "[36.0, 0.5, 4]: 4.1995053024\n",
      "[36.0, 1, 2]: 4.42515862754\n",
      "[36.0, 1, 3]: 4.45959327088\n",
      "[36.0, 1, 4]: 4.47647826381\n",
      "[36.0, 2, 2]: 4.74833340124\n",
      "[36.0, 2, 3]: 4.82217151678\n",
      "[36.0, 2, 4]: 4.8337045783\n",
      "[40.0, 0.5, 2]: 1.77195950555\n",
      "[40.0, 0.5, 3]: 1.78589430081\n",
      "[40.0, 0.5, 4]: 1.78893469034\n",
      "[40.0, 1, 2]: 2.28269662198\n",
      "[40.0, 1, 3]: 2.30721372083\n",
      "[40.0, 1, 4]: 2.30514229085\n",
      "[40.0, 2, 2]: 2.81596166159\n",
      "[40.0, 2, 3]: 2.87760600322\n",
      "[40.0, 2, 4]: 2.87171076628\n",
      "[44.0, 0.5, 2]: 0.628951860713\n",
      "[44.0, 0.5, 3]: 0.629669984143\n",
      "[44.0, 0.5, 4]: 0.627308719664\n",
      "[44.0, 1, 2]: 1.08720822746\n",
      "[44.0, 1, 3]: 1.10689492033\n",
      "[44.0, 1, 4]: 1.10807329206\n",
      "[44.0, 2, 2]: 1.66267864988\n",
      "[44.0, 2, 3]: 1.67792142337\n",
      "[44.0, 2, 4]: 1.67612792356\n"
     ]
    }
   ],
   "source": [
    "print(\"Simple Monomials \")\n",
    "for i in S0_1:\n",
    "    for j in T_1:\n",
    "        for k in k_1:\n",
    "            price = AmericanOptionsLSMC(S0 = i, strike = 40., T = j, r = 0.06, sigma = 0.2, \n",
    "                                        simulations = 100000, k = k, method = 'M')\n",
    "            print(str([i, j, k]) + \": \" + str(price))                          "
   ]
  },
  {
   "cell_type": "markdown",
   "metadata": {},
   "source": [
    "Comment:\n",
    "Holding S0 and T constant, the precision of LSMC pricing increases as k increases. Allowing for more k terms enhances the performance at the cost of slower computation speed. Comparing the three method, we found that Laguerre method generates larger deviation from the true value of options. The results from Hermite and simple monomials are quite similiar while the latter one has better performance. "
   ]
  },
  {
   "cell_type": "markdown",
   "metadata": {},
   "source": [
    "Problem 2"
   ]
  },
  {
   "cell_type": "markdown",
   "metadata": {},
   "source": [
    "a."
   ]
  },
  {
   "cell_type": "code",
   "execution_count": 3,
   "metadata": {},
   "outputs": [
    {
     "name": "stdout",
     "output_type": "stream",
     "text": [
      "Forward-start European put: 3.21760923317\n"
     ]
    }
   ],
   "source": [
    "T = 1\n",
    "t = 0.2\n",
    "sigma = 0.2\n",
    "r = 0.06\n",
    "S0 = 65\n",
    "simulations = 10000\n",
    "N = 100\n",
    "time_unit = T/float(N)\n",
    "discount = np.exp(-r * time_unit)\n",
    "price_matrix = np.zeros((simulations, N + 1), dtype=np.float64)\n",
    "price_matrix[:, 0] = S0\n",
    "for i in range(1, N + 1):\n",
    "    brownian = np.random.standard_normal(simulations)\n",
    "    price_matrix[:, i] = (price_matrix[:, i-1]\n",
    "                              * np.exp((r - sigma ** 2 / 2.) * time_unit\n",
    "                              + sigma * brownian * np.sqrt(time_unit)))\n",
    "\n",
    "forward_t = int(0.2/float(time_unit))\n",
    "strike = price_matrix[:, forward_t]\n",
    "  \n",
    "payoff_matrix = np.maximum(np.array([list(strike),] * (N+1)).transpose() - price_matrix, np.zeros_like(price_matrix))\n",
    "P_2a = np.exp(- r * T) * payoff_matrix[:,-1].sum() / float(simulations) \n",
    "print(\"Forward-start European put: \" + str(P_2a))"
   ]
  },
  {
   "cell_type": "markdown",
   "metadata": {},
   "source": [
    "b."
   ]
  },
  {
   "cell_type": "code",
   "execution_count": 4,
   "metadata": {},
   "outputs": [
    {
     "name": "stdout",
     "output_type": "stream",
     "text": [
      "Forward-start American put: 3.51474525865\n"
     ]
    }
   ],
   "source": [
    "M = N - forward_t\n",
    "price_scale = np.divide(price_matrix[:, forward_t:], strike[:,None])\n",
    "strike_scale = price_scale[:,0]\n",
    "payoff_scale = np.maximum(1 - price_scale, 0)\n",
    "value_matrix = np.zeros_like(payoff_scale)\n",
    "value_matrix[:, -1] = payoff_scale[:, -1]\n",
    "index_matrix = np.zeros_like(payoff_scale)\n",
    "index_matrix[:,-1] = (value_matrix[:, -1] > 0.) * 1\n",
    "for j in range(M - 1, 0 , -1):\n",
    "              \n",
    "    itm = np.where(payoff_scale[:, j] > 0.)\n",
    "    P = price_scale[itm, j][0]         \n",
    "    L = Monomials(P, 4) \n",
    "    A = L.transpose() @ L\n",
    "    disc = np.array([pow(discount, i+1) for i in range(M - j)])\n",
    "    disc_MCpayoff = np.multiply(payoff_scale[itm, j+1:][0], disc[np.newaxis, :])\n",
    "    \n",
    "    Y = np.sum(disc_MCpayoff * index_matrix[itm, j+1:][0], axis = 1)\n",
    "    b = L.transpose() @ Y\n",
    "    a = np.linalg.pinv(A) @ b\n",
    "    \n",
    "    continuation_value = L @ a\n",
    "    value_matrix[itm, j] = np.where(payoff_scale[itm, j][0] > continuation_value, payoff_scale[itm, j][0], 0)\n",
    "    index_matrix[itm, j] = (value_matrix[itm, j] > 0) * 1\n",
    "    exercise = np.where(index_matrix[:,j] == 1)\n",
    "    index_matrix[exercise, j+1:] = 0 \n",
    "\n",
    "disc_vector = [pow(discount, i+1) for i in range(M)]\n",
    "index_matrix = np.multiply(index_matrix[:,1:], disc_vector)\n",
    "optvalue = np.sum(index_matrix * value_matrix[:,1:], axis = 1) * strike\n",
    "P_2b = optvalue.sum()/simulations * np.exp(-r * t)\n",
    "print(\"Forward-start American put: \" + str(P_2b))"
   ]
  },
  {
   "cell_type": "markdown",
   "metadata": {},
   "source": [
    "To price American forward start option, firstly we need to scale the $payoff = S_t * max(1 - S_T/S_t) $. Then we compute the scaled American value till t=0.2, unscale the value and then discount it back to t=0."
   ]
  },
  {
   "cell_type": "code",
   "execution_count": null,
   "metadata": {
    "collapsed": true
   },
   "outputs": [],
   "source": []
  }
 ],
 "metadata": {
  "kernelspec": {
   "display_name": "Python 3",
   "language": "python",
   "name": "python3"
  },
  "language_info": {
   "codemirror_mode": {
    "name": "ipython",
    "version": 3
   },
   "file_extension": ".py",
   "mimetype": "text/x-python",
   "name": "python",
   "nbconvert_exporter": "python",
   "pygments_lexer": "ipython3",
   "version": "3.6.3"
  }
 },
 "nbformat": 4,
 "nbformat_minor": 2
}
