{
 "cells": [
  {
   "cell_type": "markdown",
   "metadata": {},
   "source": [
    "Project 9"
   ]
  },
  {
   "cell_type": "markdown",
   "metadata": {},
   "source": [
    "Yuqing Huang, 2018/03/14"
   ]
  },
  {
   "cell_type": "code",
   "execution_count": 8,
   "metadata": {},
   "outputs": [],
   "source": [
    "import numpy as np\n",
    "import matplotlib.pyplot as plt\n",
    "import pandas as pd"
   ]
  },
  {
   "cell_type": "code",
   "execution_count": 9,
   "metadata": {},
   "outputs": [],
   "source": [
    "kappa_seq = np.arange(0.3, 0.9+0.1, 0.1)\n",
    "rbar_seq = np.arange(0.03, 0.09+0.01, 0.01)"
   ]
  },
  {
   "cell_type": "code",
   "execution_count": 10,
   "metadata": {},
   "outputs": [],
   "source": [
    "def ZCB_CIR(tau, kappa, sigma, r_bar, r_t1):\n",
    "    \n",
    "    h1 = np.sqrt(kappa**2 + 2*sigma**2)\n",
    "    h2 = (kappa + h1)/2.\n",
    "    h3 = 2 * kappa * r_bar/sigma**2\n",
    "\n",
    "    B = (np.exp(h1 * tau) - 1)/(h2 * (np.exp(h1 * tau) - 1) + h1)\n",
    "    A = np.power(h1 * np.exp(h2 * tau)/(h2 * (np.exp(h1 * tau) - 1) + h1),h3)\n",
    "\n",
    "    return A * np.exp(-B * r_t1)"
   ]
  },
  {
   "cell_type": "markdown",
   "metadata": {},
   "source": [
    "Problem 1"
   ]
  },
  {
   "cell_type": "code",
   "execution_count": 11,
   "metadata": {},
   "outputs": [],
   "source": [
    "def MBS_Numerix(wac, T, notional, r0, kappa, r_bar, sigma, simulations = 5000):\n",
    "    np.random.seed(1)\n",
    "    period = int(T * 12) # months\n",
    "    ndays = int(T * 360) # days\n",
    "    dt = 1/360.\n",
    "    rm = wac/12.\n",
    "    \n",
    "    \n",
    "    PV = np.zeros((simulations, period + 1))\n",
    "    PV[:,0] = notional\n",
    "    c = np.zeros((simulations, period))\n",
    "    SY = [0.94, 0.76, 0.74, 0.95, 0.98, 0.92, 0.98, 1.10, 1.18, 1.22, 1.23, 0.98]\n",
    "    \n",
    "    cir_mat = np.zeros((simulations, ndays + 1))\n",
    "    cir_mat[:,0] = r0\n",
    "    for i in range(1, ndays + 1):\n",
    "        brownian = np.random.standard_normal(simulations)\n",
    "        cir_mat[:,i] = cir_mat[:,i-1] + kappa * (r_bar -np.maximum(cir_mat[:,i-1], 0)) * dt +\\\n",
    "        sigma * brownian * np.sqrt(dt * np.maximum(cir_mat[:,i-1], 0))\n",
    "        \n",
    "    for i in range(period):\n",
    "        # compute CPR\n",
    "        BU = 0.3 + 0.7 * (PV[:,i]/PV[:,0])\n",
    "        SG = min(1, (i+1)/30.)\n",
    "        SY_i = SY[i%12]\n",
    "        P10 = ZCB_CIR(10, kappa, sigma, r_bar, cir_mat[:, i*30])\n",
    "        r10 = -1/10. * np.log(P10)\n",
    "        RI = 0.28 + 0.14 * np.arctan(-8.57 + 430 * (wac - r10))\n",
    "        CPR = BU * SG * SY_i * RI\n",
    "        \n",
    "        IP = PV[:,i] * rm\n",
    "        SP = PV[:,i] * rm *(1/(1 - pow(1+rm, -period + i)) - 1.)\n",
    "        PP = (PV[:,i] - SP) * (1 - pow(1 - CPR, 1/12.))\n",
    "        PV[:,i+1] = PV[:,i] - SP - PP\n",
    "        c[:,i] = IP + SP + PP\n",
    "           \n",
    "    \n",
    "    step = 30 * np.arange(1, period + 1, 1)\n",
    "    R_cir = np.array([dt * np.sum(cir_mat[:,1:j], axis = 1) for j in step]).T\n",
    "    disc = np.exp(-R_cir)\n",
    "    disc_c = disc * c\n",
    "    MBS_sims = np.sum(disc_c, axis = 1)\n",
    "    \n",
    "    return np.mean(MBS_sims)"
   ]
  },
  {
   "cell_type": "markdown",
   "metadata": {},
   "source": [
    "(a)"
   ]
  },
  {
   "cell_type": "code",
   "execution_count": 5,
   "metadata": {},
   "outputs": [
    {
     "name": "stdout",
     "output_type": "stream",
     "text": [
      "1a: 100746.982324\n"
     ]
    }
   ],
   "source": [
    "sol_1a = MBS_Numerix(wac = 0.08, T = 30, notional = 100000, r0 = 0.078, kappa = 0.6, r_bar = 0.08, sigma = 0.12, simulations = 5000)\n",
    "print(\"1a: \" + str(sol_1a))"
   ]
  },
  {
   "cell_type": "markdown",
   "metadata": {},
   "source": [
    "(b)"
   ]
  },
  {
   "cell_type": "code",
   "execution_count": 13,
   "metadata": {},
   "outputs": [
    {
     "data": {
      "image/png": "[encoded data removed]",
      "text/plain": [
       "<matplotlib.figure.Figure at 0x37affd0>"
      ]
     },
     "metadata": {},
     "output_type": "display_data"
    }
   ],
   "source": [
    "sol_1b = [MBS_Numerix(wac = 0.08, T = 30, notional = 100000, r0 = 0.078, \n",
    "               kappa = i, r_bar = 0.08, sigma = 0.12, simulations = 5000) for i in kappa_seq]\n",
    "\n",
    "    \n",
    "plt.plot(kappa_seq, sol_1b)\n",
    "plt.xlabel(\"kappa\")\n",
    "plt.ylabel(\"price\")\n",
    "plt.title(\"Price of MBS(Numerix model) vs. κ\")\n",
    "plt.show()"
   ]
  },
  {
   "cell_type": "markdown",
   "metadata": {},
   "source": [
    "(c)"
   ]
  },
  {
   "cell_type": "code",
   "execution_count": 7,
   "metadata": {},
   "outputs": [
    {
     "data": {
      "image/png": "[encoded data removed]",
      "text/plain": [
       "<matplotlib.figure.Figure at 0xc108d50>"
      ]
     },
     "metadata": {},
     "output_type": "display_data"
    }
   ],
   "source": [
    "# (c)\n",
    "\n",
    "sol_1c = [MBS_Numerix(wac = 0.08, T = 30, notional = 100000, r0 = 0.078, \n",
    "               kappa = 0.6, r_bar = i, sigma = 0.12, simulations = 5000) for i in rbar_seq]\n",
    "\n",
    "\n",
    "plt.plot(rbar_seq, sol_1c)\n",
    "plt.xlabel(\"r_bar\")\n",
    "plt.ylabel(\"price\")\n",
    "plt.title(\"Price of MBS(Numerix model) vs. r_bar\")\n",
    "plt.show()"
   ]
  },
  {
   "cell_type": "markdown",
   "metadata": {},
   "source": [
    "We can observe that there are kinks in the two graphs above. One possible explanation is that we use full truncation to deal with negative $r_t$ in CIR simulations and thus the precision of outcome is affected (even if we increase the paths of simulations)."
   ]
  },
  {
   "cell_type": "markdown",
   "metadata": {},
   "source": [
    "Problem 2"
   ]
  },
  {
   "cell_type": "code",
   "execution_count": 7,
   "metadata": {},
   "outputs": [],
   "source": [
    "def MBS_PSA(wac, T, notional, r0, kappa, r_bar, sigma, simulations = 5000):\n",
    "    np.random.seed(1)\n",
    "    period = int(T * 12) # months\n",
    "    ndays = int(T * 360) # days\n",
    "    dt = 1/360.\n",
    "    rm = wac/12.\n",
    "    \n",
    "    \n",
    "    PV = [notional]\n",
    "    c = []\n",
    "    CPR = np.arange(0.002, 0.002*(30+1), 0.002)\n",
    "    CPR = np.append(CPR, np.repeat(CPR[-1], period - 30))\n",
    "    \n",
    "    for i in range(period):\n",
    "        IP = PV[-1] * rm\n",
    "        SP = PV[-1] * rm *(1/(1 - pow(1+rm, -period + i)) - 1.)\n",
    "        PP = (PV[-1] - SP)*(1 - pow(1 - CPR[i], 1/12.))\n",
    "        PV_i = PV[-1] - SP - PP\n",
    "        PV.append(PV_i)\n",
    "        c.append(IP + SP + PP)\n",
    "        \n",
    "    \n",
    "    cir_mat = np.zeros((simulations, ndays + 1))\n",
    "    cir_mat[:,0] = r0\n",
    "    for i in range(1, ndays + 1):\n",
    "        brownian = np.random.standard_normal(simulations)\n",
    "        cir_mat[:,i] = cir_mat[:,i-1] + kappa * (r_bar -cir_mat[:,i-1]) * dt + sigma * brownian * np.sqrt(dt * cir_mat[:,i-1])\n",
    "        \n",
    "    step = 30 * np.arange(1, period + 1, 1)\n",
    "    \n",
    "    R_cir = [dt * np.sum(cir_mat[:,1:j], axis = 1) for j in step]\n",
    "    disc = [np.mean(np.exp(-R_cir[i])) for i in range(period)]\n",
    "    MBS = np.dot(disc, c)\n",
    "    \n",
    "    return MBS"
   ]
  },
  {
   "cell_type": "markdown",
   "metadata": {},
   "source": [
    "(a)"
   ]
  },
  {
   "cell_type": "code",
   "execution_count": 8,
   "metadata": {},
   "outputs": [
    {
     "name": "stdout",
     "output_type": "stream",
     "text": [
      "2a: 100820.753357\n"
     ]
    }
   ],
   "source": [
    "# (a)\n",
    "sol_2a = MBS_PSA(wac = 0.08, T = 30, notional = 100000, r0 = 0.078, kappa = 0.6, r_bar = 0.08, sigma = 0.12, simulations = 5000)\n",
    "print(\"2a: \" + str(sol_2a))"
   ]
  },
  {
   "cell_type": "markdown",
   "metadata": {},
   "source": [
    "(b)"
   ]
  },
  {
   "cell_type": "code",
   "execution_count": 9,
   "metadata": {},
   "outputs": [
    {
     "data": {
      "image/png": "[encoded data removed]",
      "text/plain": [
       "<matplotlib.figure.Figure at 0x86ed8b0>"
      ]
     },
     "metadata": {},
     "output_type": "display_data"
    }
   ],
   "source": [
    "# (b)\n",
    "sol_2b = [MBS_PSA(wac = 0.08, T = 30, notional = 100000, r0 = 0.078, \n",
    "               kappa = i, r_bar = 0.08, sigma = 0.12, simulations = 5000) for i in kappa_seq]\n",
    "\n",
    "     \n",
    "    \n",
    "plt.plot(kappa_seq, sol_2b)\n",
    "plt.xlabel(\"kappa\")\n",
    "plt.ylabel(\"price\")\n",
    "plt.title(\"Price of MBS(PSA model) vs. κ\")\n",
    "plt.show()"
   ]
  },
  {
   "cell_type": "markdown",
   "metadata": {},
   "source": [
    "Problem 3"
   ]
  },
  {
   "cell_type": "code",
   "execution_count": 6,
   "metadata": {},
   "outputs": [],
   "source": [
    "def MBS_Numerix_OAS(wac, T, notional, r0, kappa, r_bar, sigma, x, simulations = 5000):\n",
    "    np.random.seed(1)\n",
    "    period = int(T * 12) # months\n",
    "    ndays = int(T * 360) # days\n",
    "    dt = 1/360.\n",
    "    rm = wac/12.  \n",
    "    \n",
    "    PV = np.zeros((simulations, period + 1))\n",
    "    PV[:,0] = notional\n",
    "    c = np.zeros((simulations, period))\n",
    "    SY = [0.94, 0.76, 0.74, 0.95, 0.98, 0.92, 0.98, 1.10, 1.18, 1.22, 1.23, 0.98]\n",
    "    \n",
    "    cir_mat = np.zeros((simulations, ndays + 1))\n",
    "    cir_mat[:,0] = r0\n",
    "    for i in range(1, ndays + 1):\n",
    "        brownian = np.random.standard_normal(simulations)\n",
    "        cir_mat[:,i] = cir_mat[:,i-1] + kappa * (r_bar -np.maximum(cir_mat[:,i-1], 0)) * dt +\\\n",
    "        sigma * brownian * np.sqrt(dt * np.maximum(cir_mat[:,i-1], 0))\n",
    "    \n",
    "    for i in range(period):\n",
    "        # compute CPR\n",
    "        BU = 0.3 + 0.7 * (PV[:,i]/PV[:,0])\n",
    "        SG = min(1, (i+1)/30.)\n",
    "        SY_i = SY[i%12]\n",
    "        P10 = ZCB_CIR(10, kappa, sigma, r_bar, cir_mat[:, i*30])\n",
    "        r10 = -1/10. * np.log(P10)\n",
    "        RI = 0.28 + 0.14 * np.arctan(-8.57 + 430 * (wac - r10))\n",
    "        CPR = BU * SG * SY_i * RI\n",
    "        \n",
    "        IP = PV[:,i] * rm\n",
    "        SP = PV[:,i] * rm *(1/(1 - pow(1+rm, -period + i)) - 1.)\n",
    "        PP = (PV[:,i] - SP) * (1 - pow(1 - CPR, 1/12.))\n",
    "        PV[:,i+1] = PV[:,i] - SP - PP\n",
    "        c[:,i] = IP + SP + PP\n",
    "        \n",
    "    \n",
    "    \n",
    "    step = 30 * np.arange(1, period + 1, 1)\n",
    "    pmt_date = np.arange(1/12., 1/12*(period+1), 1/12.)\n",
    "    R_cir = np.array([dt * np.sum(cir_mat[:,1:j], axis = 1) for j in step]).T\n",
    "    disc = np.exp(-R_cir - x*pmt_date)\n",
    "    disc_c = disc * c\n",
    "    MBS_sims = np.sum(disc_c, axis = 1)\n",
    "    \n",
    "    return np.mean(MBS_sims)"
   ]
  },
  {
   "cell_type": "code",
   "execution_count": 4,
   "metadata": {},
   "outputs": [],
   "source": [
    "def solve_OAS(xtry):\n",
    "    return MBS_Numerix_OAS(wac = 0.08, T = 30, notional = 100000, r0 = 0.078, kappa = 0.6, \n",
    "                           r_bar = 0.08, sigma = 0.12,x = xtry,simulations = 5000) - 110000\n"
   ]
  },
  {
   "cell_type": "code",
   "execution_count": 5,
   "metadata": {},
   "outputs": [],
   "source": [
    "def bisection_OAS(a,b):\n",
    " \n",
    "    while ((b-a) >= 0.00000001):\n",
    " \n",
    "        # Find middle point\n",
    "        c = (a+b)/2.\n",
    "  \n",
    "        # Check if middle point is root\n",
    "        if (solve_OAS(c) == 0.0):\n",
    "            break\n",
    "  \n",
    "        # Decide the side to repeat the steps\n",
    "        if (solve_OAS(c)* solve_OAS(a) < 0):\n",
    "            b = c\n",
    "        else:\n",
    "            a = c\n",
    "             \n",
    "    return c\n",
    "     \n",
    "OAS = bisection_OAS(a = -0.1, b = 0.1)"
   ]
  },
  {
   "cell_type": "code",
   "execution_count": 8,
   "metadata": {},
   "outputs": [
    {
     "name": "stdout",
     "output_type": "stream",
     "text": [
      "OAS: -0.012601429224014282\n"
     ]
    }
   ],
   "source": [
    "print(\"OAS: \" + str(OAS))"
   ]
  },
  {
   "cell_type": "markdown",
   "metadata": {},
   "source": [
    "Problem 4"
   ]
  },
  {
   "cell_type": "code",
   "execution_count": 7,
   "metadata": {},
   "outputs": [
    {
     "name": "stdout",
     "output_type": "stream",
     "text": [
      "OAS Duration: 7.21338510307\n",
      "OAS Convexity: 45.7667425426\n"
     ]
    }
   ],
   "source": [
    "y = 0.0005\n",
    "P_plus = MBS_Numerix_OAS(wac = 0.08, T = 30, notional = 100000, r0 = 0.078, kappa = 0.6, \n",
    "                           r_bar = 0.08, sigma = 0.12,x = (OAS+y),simulations = 5000)\n",
    "P_minus =  MBS_Numerix_OAS(wac = 0.08, T = 30, notional = 100000, r0 = 0.078, kappa = 0.6, \n",
    "                           r_bar = 0.08, sigma = 0.12,x = (OAS-y),simulations = 5000)\n",
    "P0 = MBS_Numerix_OAS(wac = 0.08, T = 30, notional = 100000, r0 = 0.078, kappa = 0.6, \n",
    "                           r_bar = 0.08, sigma = 0.12,x = OAS,simulations = 5000)\n",
    "OAS_duration = (P_minus - P_plus)/(2*y*P0)\n",
    "OAS_convexity = (P_plus + P_minus - 2.*P0)/(2.*P0 * y**2)\n",
    "print(\"OAS Duration: \" + str(OAS_duration))\n",
    "print(\"OAS Convexity: \" + str(OAS_convexity))"
   ]
  },
  {
   "cell_type": "markdown",
   "metadata": {},
   "source": [
    "Problem 5"
   ]
  },
  {
   "cell_type": "code",
   "execution_count": 4,
   "metadata": {},
   "outputs": [],
   "source": [
    "def MBS_Numerix_tranch(wac, T, notional, r0, kappa, r_bar, sigma, simulations = 5000):\n",
    "    np.random.seed(1)\n",
    "    period = int(T * 12) # months\n",
    "    ndays = int(T * 360) # days\n",
    "    dt = 1/360.\n",
    "    rm = wac/12.\n",
    "    \n",
    "    \n",
    "    cir_mat = np.zeros((simulations, ndays + 1))\n",
    "    cir_mat[:,0] = r0\n",
    "    for i in range(1, ndays + 1):\n",
    "        brownian = np.random.standard_normal(simulations)\n",
    "        cir_mat[:,i] = cir_mat[:,i-1] + kappa * (r_bar -np.maximum(cir_mat[:,i-1], 0)) * dt +\\\n",
    "        sigma * brownian * np.sqrt(dt * np.maximum(cir_mat[:,i-1], 0))\n",
    "        \n",
    "    PV = np.zeros((simulations, period + 1))\n",
    "    PV[:,0] = notional\n",
    "    IO = np.zeros((simulations, period))\n",
    "    PO = np.zeros((simulations, period))\n",
    "    SY = [0.94, 0.76, 0.74, 0.95, 0.98, 0.92, 0.98, 1.10, 1.18, 1.22, 1.23, 0.98]\n",
    "    \n",
    "    \n",
    "    for i in range(period):\n",
    "        BU = 0.3 + 0.7 * (PV[:,i]/PV[:,0])\n",
    "        SG = min(1, (i+1)/30.)\n",
    "        SY_i = SY[i%12]\n",
    "        P10 = ZCB_CIR(10, kappa, sigma, r_bar, cir_mat[:, i*30])\n",
    "        r10 = -1/10. * np.log(P10)\n",
    "        RI = 0.28 + 0.14 * np.arctan(-8.57 + 430 * (wac - r10))\n",
    "        CPR = BU * SG * SY_i * RI\n",
    "        \n",
    "        IP = PV[:,i] * rm\n",
    "        SP = PV[:,i] * rm *(1/(1 - pow(1+rm, -period + i)) - 1.)\n",
    "        PP = (PV[:,i] - SP) * (1 - pow(1 - CPR, 1/12.))\n",
    "        PV[:,i+1] = PV[:,i] - SP - PP\n",
    "        IO[:,i] = IP\n",
    "        PO[:,i] = SP + PP\n",
    "        \n",
    "    \n",
    "    \n",
    "    step = 30 * np.arange(1, period + 1, 1)\n",
    "    \n",
    "    R_cir = np.array([dt * np.sum(cir_mat[:,1:j], axis = 1) for j in step]).T\n",
    "    disc = np.exp(-R_cir)\n",
    "    disc_IO = disc * IO\n",
    "    disc_PO = disc * PO\n",
    "    IO_sims = np.sum(disc_IO, axis = 1)\n",
    "    PO_sims = np.sum(disc_PO, axis = 1)\n",
    "    \n",
    "    return np.mean(IO_sims), np.mean(PO_sims)"
   ]
  },
  {
   "cell_type": "code",
   "execution_count": 5,
   "metadata": {},
   "outputs": [],
   "source": [
    "IO_seq = []\n",
    "PO_seq = []\n",
    "\n",
    "for i in range(len(rbar_seq)):\n",
    "    [x,y] = MBS_Numerix_tranch(wac = 0.08, T = 30, notional = 100000, r0 = 0.078, kappa = 0.6, r_bar = rbar_seq[i], sigma = 0.12, simulations = 5000)\n",
    "    IO_seq.append(x)\n",
    "    PO_seq.append(y)"
   ]
  },
  {
   "cell_type": "code",
   "execution_count": 7,
   "metadata": {},
   "outputs": [
    {
     "data": {
      "image/png": "[encoded data removed]",
      "text/plain": [
       "<matplotlib.figure.Figure at 0x3abe5f0>"
      ]
     },
     "metadata": {},
     "output_type": "display_data"
    }
   ],
   "source": [
    "plt.plot(rbar_seq, IO_seq, label = \"IO\")\n",
    "plt.plot(rbar_seq, PO_seq, label = \"PO\")\n",
    "plt.xlabel(\"r_bar\")\n",
    "plt.ylabel(\"Tranch\")\n",
    "plt.title(\"IO & PO tranches vs. r_bar\")\n",
    "plt.legend()\n",
    "plt.show()"
   ]
  },
  {
   "cell_type": "code",
   "execution_count": 9,
   "metadata": {},
   "outputs": [
    {
     "data": {
      "text/html": [
       "<div>\n",
       "<style>\n",
       "    .dataframe thead tr:only-child th {\n",
       "        text-align: right;\n",
       "    }\n",
       "\n",
       "    .dataframe thead th {\n",
       "        text-align: left;\n",
       "    }\n",
       "\n",
       "    .dataframe tbody tr th {\n",
       "        vertical-align: top;\n",
       "    }\n",
       "</style>\n",
       "<table border=\"1\" class=\"dataframe\">\n",
       "  <thead>\n",
       "    <tr style=\"text-align: right;\">\n",
       "      <th></th>\n",
       "      <th>r_bar</th>\n",
       "      <th>IO</th>\n",
       "      <th>PO</th>\n",
       "    </tr>\n",
       "  </thead>\n",
       "  <tbody>\n",
       "    <tr>\n",
       "      <th>0</th>\n",
       "      <td>0.03</td>\n",
       "      <td>27215.097547</td>\n",
       "      <td>84241.339954</td>\n",
       "    </tr>\n",
       "    <tr>\n",
       "      <th>1</th>\n",
       "      <td>0.04</td>\n",
       "      <td>26843.749045</td>\n",
       "      <td>82213.947006</td>\n",
       "    </tr>\n",
       "    <tr>\n",
       "      <th>2</th>\n",
       "      <td>0.05</td>\n",
       "      <td>27207.221463</td>\n",
       "      <td>79670.896893</td>\n",
       "    </tr>\n",
       "    <tr>\n",
       "      <th>3</th>\n",
       "      <td>0.06</td>\n",
       "      <td>33759.703039</td>\n",
       "      <td>71883.176964</td>\n",
       "    </tr>\n",
       "    <tr>\n",
       "      <th>4</th>\n",
       "      <td>0.07</td>\n",
       "      <td>51166.959320</td>\n",
       "      <td>54293.358371</td>\n",
       "    </tr>\n",
       "    <tr>\n",
       "      <th>5</th>\n",
       "      <td>0.08</td>\n",
       "      <td>53626.625210</td>\n",
       "      <td>47120.357114</td>\n",
       "    </tr>\n",
       "    <tr>\n",
       "      <th>6</th>\n",
       "      <td>0.09</td>\n",
       "      <td>52440.819157</td>\n",
       "      <td>43180.398371</td>\n",
       "    </tr>\n",
       "  </tbody>\n",
       "</table>\n",
       "</div>"
      ],
      "text/plain": [
       "   r_bar            IO            PO\n",
       "0   0.03  27215.097547  84241.339954\n",
       "1   0.04  26843.749045  82213.947006\n",
       "2   0.05  27207.221463  79670.896893\n",
       "3   0.06  33759.703039  71883.176964\n",
       "4   0.07  51166.959320  54293.358371\n",
       "5   0.08  53626.625210  47120.357114\n",
       "6   0.09  52440.819157  43180.398371"
      ]
     },
     "execution_count": 9,
     "metadata": {},
     "output_type": "execute_result"
    }
   ],
   "source": [
    "sol_5 = pd.DataFrame({\"r_bar\": rbar_seq,\n",
    "                     \"IO\": IO_seq,\n",
    "                     \"PO\": PO_seq})\n",
    "sol_5 = sol_5[[\"r_bar\", \"IO\", \"PO\"]]\n",
    "sol_5"
   ]
  }
 ],
 "metadata": {
  "kernelspec": {
   "display_name": "Python 3",
   "language": "python",
   "name": "python3"
  },
  "language_info": {
   "codemirror_mode": {
    "name": "ipython",
    "version": 3
   },
   "file_extension": ".py",
   "mimetype": "text/x-python",
   "name": "python",
   "nbconvert_exporter": "python",
   "pygments_lexer": "ipython3",
   "version": "3.6.3"
  }
 },
 "nbformat": 4,
 "nbformat_minor": 2
}
